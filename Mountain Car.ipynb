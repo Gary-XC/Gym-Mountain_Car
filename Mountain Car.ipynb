{
 "cells": [
  {
   "cell_type": "code",
   "execution_count": 1,
   "id": "initial_id",
   "metadata": {
    "collapsed": true,
    "ExecuteTime": {
     "end_time": "2023-11-17T06:09:06.733283600Z",
     "start_time": "2023-11-17T06:09:03.600876500Z"
    }
   },
   "outputs": [
    {
     "name": "stdout",
     "output_type": "stream",
     "text": [
      "WARNING:tensorflow:From C:\\Users\\Xi Chen\\anaconda3\\envs\\dlenv\\Lib\\site-packages\\keras\\src\\losses.py:2976: The name tf.losses.sparse_softmax_cross_entropy is deprecated. Please use tf.compat.v1.losses.sparse_softmax_cross_entropy instead.\n"
     ]
    }
   ],
   "source": [
    "import random\n",
    "\n",
    "import gymnasium as gym\n",
    "\n",
    "import time\n",
    "\n",
    "import numpy as np\n",
    "\n",
    "from tensorflow.python.keras.models import Sequential\n",
    "from tensorflow.python.keras.layers import Dense, Flatten\n",
    "from keras.optimizers import Adam\n",
    "\n",
    "import pandas as pd\n",
    "import matplotlib.pyplot as plt"
   ]
  },
  {
   "cell_type": "code",
   "execution_count": 2,
   "outputs": [
    {
     "data": {
      "text/plain": "(array([-0.49066845,  0.        ], dtype=float32), {})"
     },
     "execution_count": 2,
     "metadata": {},
     "output_type": "execute_result"
    }
   ],
   "source": [
    "env = gym.make(\"MountainCar-v0\")\n",
    "states = env.observation_space.shape[0]\n",
    "actions = env.action_space.n\n",
    "env.reset()"
   ],
   "metadata": {
    "collapsed": false,
    "ExecuteTime": {
     "end_time": "2023-11-17T06:09:16.372173Z",
     "start_time": "2023-11-17T06:09:16.361442700Z"
    }
   },
   "id": "faa596cd974020dd"
  },
  {
   "cell_type": "code",
   "execution_count": 3,
   "outputs": [
    {
     "data": {
      "text/plain": "3"
     },
     "execution_count": 3,
     "metadata": {},
     "output_type": "execute_result"
    }
   ],
   "source": [
    "actions"
   ],
   "metadata": {
    "collapsed": false,
    "ExecuteTime": {
     "end_time": "2023-11-17T06:09:18.775828900Z",
     "start_time": "2023-11-17T06:09:18.770323200Z"
    }
   },
   "id": "e8317613d83782d2"
  },
  {
   "cell_type": "code",
   "execution_count": 4,
   "outputs": [
    {
     "name": "stderr",
     "output_type": "stream",
     "text": [
      "C:\\Users\\Xi Chen\\anaconda3\\envs\\dlenv\\Lib\\site-packages\\gymnasium\\envs\\classic_control\\mountain_car.py:173: UserWarning: \u001B[33mWARN: You are calling render method without specifying any render mode. You can specify the render_mode at initialization, e.g. gym.make(\"MountainCar-v0\", render_mode=\"rgb_array\")\u001B[0m\n",
      "  gym.logger.warn(\n"
     ]
    },
    {
     "name": "stdout",
     "output_type": "stream",
     "text": [
      "Episode:1 Score:-19099.0\n",
      "Episode:2 Score:-3978.0\n",
      "Episode:3 Score:-44999.0\n",
      "Episode:4 Score:-27308.0\n",
      "Episode:5 Score:-3605.0\n",
      "Episode:6 Score:-5516.0\n",
      "Episode:7 Score:-129084.0\n",
      "Episode:8 Score:-20879.0\n",
      "Episode:9 Score:-83508.0\n",
      "Episode:10 Score:-37400.0\n"
     ]
    }
   ],
   "source": [
    "episodes = 10\n",
    "for episodes in range(1, episodes+1):\n",
    "   state = env.reset()\n",
    "   done = False\n",
    "   score = 0 \n",
    "   \n",
    "   while not done:\n",
    "      env.render()\n",
    "      action = random.choice([0, 1, 2])\n",
    "      n_state, reward, done, info, test = env.step(action)\n",
    "      score += reward\n",
    "      \n",
    "   print('Episode:{} Score:{}'.format(episodes, score))"
   ],
   "metadata": {
    "collapsed": false,
    "ExecuteTime": {
     "end_time": "2023-11-17T06:09:23.104355700Z",
     "start_time": "2023-11-17T06:09:19.977174900Z"
    }
   },
   "id": "13c2e77ecc5b92f7"
  },
  {
   "cell_type": "code",
   "execution_count": 5,
   "outputs": [],
   "source": [
    "def buildModel(states, actions):\n",
    "    model = Sequential()\n",
    "    model.add(Flatten(input_shape=(1,states)))\n",
    "    model.add(Dense(24, activation='relu'))\n",
    "    model.add(Dense(24, activation='relu'))\n",
    "    model.add(Dense(actions, activation='linear'))\n",
    "    return model"
   ],
   "metadata": {
    "collapsed": false,
    "ExecuteTime": {
     "end_time": "2023-11-17T06:09:25.648522800Z",
     "start_time": "2023-11-17T06:09:25.643014700Z"
    }
   },
   "id": "e7de2527a0723ddd"
  },
  {
   "cell_type": "code",
   "execution_count": 6,
   "outputs": [],
   "source": [
    "model = buildModel(states, actions)"
   ],
   "metadata": {
    "collapsed": false,
    "ExecuteTime": {
     "end_time": "2023-11-17T06:09:28.142916100Z",
     "start_time": "2023-11-17T06:09:28.096938300Z"
    }
   },
   "id": "8777ad74280d9212"
  },
  {
   "cell_type": "code",
   "execution_count": 7,
   "outputs": [
    {
     "name": "stdout",
     "output_type": "stream",
     "text": [
      "Model: \"sequential\"\n",
      "_________________________________________________________________\n",
      "Layer (type)                 Output Shape              Param #   \n",
      "=================================================================\n",
      "flatten (Flatten)            (None, 2)                 0         \n",
      "_________________________________________________________________\n",
      "dense (Dense)                (None, 24)                72        \n",
      "_________________________________________________________________\n",
      "dense_1 (Dense)              (None, 24)                600       \n",
      "_________________________________________________________________\n",
      "dense_2 (Dense)              (None, 3)                 75        \n",
      "=================================================================\n",
      "Total params: 747\n",
      "Trainable params: 747\n",
      "Non-trainable params: 0\n",
      "_________________________________________________________________\n"
     ]
    }
   ],
   "source": [
    "model.summary()"
   ],
   "metadata": {
    "collapsed": false,
    "ExecuteTime": {
     "end_time": "2023-11-17T06:09:29.455390800Z",
     "start_time": "2023-11-17T06:09:29.453413100Z"
    }
   },
   "id": "6a18240d7392ce8d"
  },
  {
   "cell_type": "code",
   "execution_count": 8,
   "outputs": [
    {
     "ename": "ImportError",
     "evalue": "cannot import name '__version__' from 'tensorflow.keras' (C:\\Users\\Xi Chen\\anaconda3\\envs\\dlenv\\Lib\\site-packages\\keras\\api\\_v2\\keras\\__init__.py)",
     "output_type": "error",
     "traceback": [
      "\u001B[1;31m---------------------------------------------------------------------------\u001B[0m",
      "\u001B[1;31mImportError\u001B[0m                               Traceback (most recent call last)",
      "Cell \u001B[1;32mIn[8], line 5\u001B[0m\n\u001B[0;32m      3\u001B[0m \u001B[38;5;28;01mfrom\u001B[39;00m \u001B[38;5;21;01mrl\u001B[39;00m\u001B[38;5;21;01m.\u001B[39;00m\u001B[38;5;21;01mpolicy\u001B[39;00m \u001B[38;5;28;01mimport\u001B[39;00m BoltzmannQPolicy\n\u001B[0;32m      4\u001B[0m \u001B[38;5;28;01mfrom\u001B[39;00m \u001B[38;5;21;01mrl\u001B[39;00m\u001B[38;5;21;01m.\u001B[39;00m\u001B[38;5;21;01mmemory\u001B[39;00m \u001B[38;5;28;01mimport\u001B[39;00m SequentialMemory\n\u001B[1;32m----> 5\u001B[0m \u001B[38;5;28;01mfrom\u001B[39;00m \u001B[38;5;21;01mrl\u001B[39;00m\u001B[38;5;21;01m.\u001B[39;00m\u001B[38;5;21;01magents\u001B[39;00m\u001B[38;5;21;01m.\u001B[39;00m\u001B[38;5;21;01mdqn\u001B[39;00m \u001B[38;5;28;01mimport\u001B[39;00m DQNAgent\n",
      "File \u001B[1;32m~\\anaconda3\\envs\\dlenv\\Lib\\site-packages\\rl\\agents\\__init__.py:1\u001B[0m\n\u001B[1;32m----> 1\u001B[0m \u001B[38;5;28;01mfrom\u001B[39;00m \u001B[38;5;21;01m.\u001B[39;00m\u001B[38;5;21;01mdqn\u001B[39;00m \u001B[38;5;28;01mimport\u001B[39;00m DQNAgent, NAFAgent, ContinuousDQNAgent\n\u001B[0;32m      2\u001B[0m \u001B[38;5;28;01mfrom\u001B[39;00m \u001B[38;5;21;01m.\u001B[39;00m\u001B[38;5;21;01mddpg\u001B[39;00m \u001B[38;5;28;01mimport\u001B[39;00m DDPGAgent\n\u001B[0;32m      3\u001B[0m \u001B[38;5;28;01mfrom\u001B[39;00m \u001B[38;5;21;01m.\u001B[39;00m\u001B[38;5;21;01mcem\u001B[39;00m \u001B[38;5;28;01mimport\u001B[39;00m CEMAgent\n",
      "File \u001B[1;32m~\\anaconda3\\envs\\dlenv\\Lib\\site-packages\\rl\\agents\\dqn.py:7\u001B[0m\n\u001B[0;32m      4\u001B[0m \u001B[38;5;28;01mfrom\u001B[39;00m \u001B[38;5;21;01mtensorflow\u001B[39;00m\u001B[38;5;21;01m.\u001B[39;00m\u001B[38;5;21;01mkeras\u001B[39;00m\u001B[38;5;21;01m.\u001B[39;00m\u001B[38;5;21;01mmodels\u001B[39;00m \u001B[38;5;28;01mimport\u001B[39;00m Model\n\u001B[0;32m      5\u001B[0m \u001B[38;5;28;01mfrom\u001B[39;00m \u001B[38;5;21;01mtensorflow\u001B[39;00m\u001B[38;5;21;01m.\u001B[39;00m\u001B[38;5;21;01mkeras\u001B[39;00m\u001B[38;5;21;01m.\u001B[39;00m\u001B[38;5;21;01mlayers\u001B[39;00m \u001B[38;5;28;01mimport\u001B[39;00m Lambda, Input, Layer, Dense\n\u001B[1;32m----> 7\u001B[0m \u001B[38;5;28;01mfrom\u001B[39;00m \u001B[38;5;21;01mrl\u001B[39;00m\u001B[38;5;21;01m.\u001B[39;00m\u001B[38;5;21;01mcore\u001B[39;00m \u001B[38;5;28;01mimport\u001B[39;00m Agent\n\u001B[0;32m      8\u001B[0m \u001B[38;5;28;01mfrom\u001B[39;00m \u001B[38;5;21;01mrl\u001B[39;00m\u001B[38;5;21;01m.\u001B[39;00m\u001B[38;5;21;01mpolicy\u001B[39;00m \u001B[38;5;28;01mimport\u001B[39;00m EpsGreedyQPolicy, GreedyQPolicy\n\u001B[0;32m      9\u001B[0m \u001B[38;5;28;01mfrom\u001B[39;00m \u001B[38;5;21;01mrl\u001B[39;00m\u001B[38;5;21;01m.\u001B[39;00m\u001B[38;5;21;01mutil\u001B[39;00m \u001B[38;5;28;01mimport\u001B[39;00m \u001B[38;5;241m*\u001B[39m\n",
      "File \u001B[1;32m~\\anaconda3\\envs\\dlenv\\Lib\\site-packages\\rl\\core.py:7\u001B[0m\n\u001B[0;32m      4\u001B[0m \u001B[38;5;28;01mimport\u001B[39;00m \u001B[38;5;21;01mnumpy\u001B[39;00m \u001B[38;5;28;01mas\u001B[39;00m \u001B[38;5;21;01mnp\u001B[39;00m\n\u001B[0;32m      5\u001B[0m \u001B[38;5;28;01mfrom\u001B[39;00m \u001B[38;5;21;01mtensorflow\u001B[39;00m\u001B[38;5;21;01m.\u001B[39;00m\u001B[38;5;21;01mkeras\u001B[39;00m\u001B[38;5;21;01m.\u001B[39;00m\u001B[38;5;21;01mcallbacks\u001B[39;00m \u001B[38;5;28;01mimport\u001B[39;00m History\n\u001B[1;32m----> 7\u001B[0m \u001B[38;5;28;01mfrom\u001B[39;00m \u001B[38;5;21;01mrl\u001B[39;00m\u001B[38;5;21;01m.\u001B[39;00m\u001B[38;5;21;01mcallbacks\u001B[39;00m \u001B[38;5;28;01mimport\u001B[39;00m (\n\u001B[0;32m      8\u001B[0m     CallbackList,\n\u001B[0;32m      9\u001B[0m     TestLogger,\n\u001B[0;32m     10\u001B[0m     TrainEpisodeLogger,\n\u001B[0;32m     11\u001B[0m     TrainIntervalLogger,\n\u001B[0;32m     12\u001B[0m     Visualizer\n\u001B[0;32m     13\u001B[0m )\n\u001B[0;32m     16\u001B[0m \u001B[38;5;28;01mclass\u001B[39;00m \u001B[38;5;21;01mAgent\u001B[39;00m:\n\u001B[0;32m     17\u001B[0m \u001B[38;5;250m    \u001B[39m\u001B[38;5;124;03m\"\"\"Abstract base class for all implemented agents.\u001B[39;00m\n\u001B[0;32m     18\u001B[0m \n\u001B[0;32m     19\u001B[0m \u001B[38;5;124;03m    Each agent interacts with the environment (as defined by the `Env` class) by first observing the\u001B[39;00m\n\u001B[1;32m   (...)\u001B[0m\n\u001B[0;32m     37\u001B[0m \u001B[38;5;124;03m        processor (`Processor` instance): See [Processor](#processor) for details.\u001B[39;00m\n\u001B[0;32m     38\u001B[0m \u001B[38;5;124;03m    \"\"\"\u001B[39;00m\n",
      "File \u001B[1;32m~\\anaconda3\\envs\\dlenv\\Lib\\site-packages\\rl\\callbacks.py:8\u001B[0m\n\u001B[0;32m      6\u001B[0m \u001B[38;5;28;01mimport\u001B[39;00m \u001B[38;5;21;01mnumpy\u001B[39;00m \u001B[38;5;28;01mas\u001B[39;00m \u001B[38;5;21;01mnp\u001B[39;00m\n\u001B[0;32m      7\u001B[0m \u001B[38;5;28;01mimport\u001B[39;00m \u001B[38;5;21;01mtensorflow\u001B[39;00m \u001B[38;5;28;01mas\u001B[39;00m \u001B[38;5;21;01mtf\u001B[39;00m\n\u001B[1;32m----> 8\u001B[0m \u001B[38;5;28;01mfrom\u001B[39;00m \u001B[38;5;21;01mtensorflow\u001B[39;00m\u001B[38;5;21;01m.\u001B[39;00m\u001B[38;5;21;01mkeras\u001B[39;00m \u001B[38;5;28;01mimport\u001B[39;00m __version__ \u001B[38;5;28;01mas\u001B[39;00m KERAS_VERSION\n\u001B[0;32m      9\u001B[0m \u001B[38;5;28;01mfrom\u001B[39;00m \u001B[38;5;21;01mtensorflow\u001B[39;00m\u001B[38;5;21;01m.\u001B[39;00m\u001B[38;5;21;01mpython\u001B[39;00m\u001B[38;5;21;01m.\u001B[39;00m\u001B[38;5;21;01mkeras\u001B[39;00m\u001B[38;5;21;01m.\u001B[39;00m\u001B[38;5;21;01mcallbacks\u001B[39;00m \u001B[38;5;28;01mimport\u001B[39;00m Callback \u001B[38;5;28;01mas\u001B[39;00m KerasCallback, CallbackList \u001B[38;5;28;01mas\u001B[39;00m KerasCallbackList\n\u001B[0;32m     10\u001B[0m \u001B[38;5;28;01mfrom\u001B[39;00m \u001B[38;5;21;01mtensorflow\u001B[39;00m\u001B[38;5;21;01m.\u001B[39;00m\u001B[38;5;21;01mpython\u001B[39;00m\u001B[38;5;21;01m.\u001B[39;00m\u001B[38;5;21;01mkeras\u001B[39;00m\u001B[38;5;21;01m.\u001B[39;00m\u001B[38;5;21;01mutils\u001B[39;00m\u001B[38;5;21;01m.\u001B[39;00m\u001B[38;5;21;01mgeneric_utils\u001B[39;00m \u001B[38;5;28;01mimport\u001B[39;00m Progbar\n",
      "\u001B[1;31mImportError\u001B[0m: cannot import name '__version__' from 'tensorflow.keras' (C:\\Users\\Xi Chen\\anaconda3\\envs\\dlenv\\Lib\\site-packages\\keras\\api\\_v2\\keras\\__init__.py)"
     ]
    }
   ],
   "source": [
    "import tensorflow as tf\n",
    "\n",
    "from rl.policy import BoltzmannQPolicy\n",
    "from rl.memory import SequentialMemory\n",
    "from rl.agents.dqn import DQNAgent"
   ],
   "metadata": {
    "collapsed": false,
    "ExecuteTime": {
     "end_time": "2023-11-17T06:09:34.450741Z",
     "start_time": "2023-11-17T06:09:33.832170100Z"
    }
   },
   "id": "2443537c264f601f"
  },
  {
   "cell_type": "code",
   "execution_count": 9,
   "outputs": [],
   "source": [
    "def build_agent(model, actions):\n",
    "    policy = BoltzmannQPolicy()\n",
    "    memory = SequentialMemory(limit=50000, window_length=1)\n",
    "    dqn = DQNAgent(model=model, memory=memory, policy=policy, \n",
    "                  nb_actions=actions, nb_steps_warmup=10, target_model_update=0.01)\n",
    "    return dqn"
   ],
   "metadata": {
    "collapsed": false,
    "ExecuteTime": {
     "end_time": "2023-11-17T06:09:50.966327800Z",
     "start_time": "2023-11-17T06:09:50.962323900Z"
    }
   },
   "id": "95c3b074cc1701cd"
  },
  {
   "cell_type": "code",
   "execution_count": 10,
   "outputs": [
    {
     "ename": "NameError",
     "evalue": "name 'DQNAgent' is not defined",
     "output_type": "error",
     "traceback": [
      "\u001B[1;31m---------------------------------------------------------------------------\u001B[0m",
      "\u001B[1;31mNameError\u001B[0m                                 Traceback (most recent call last)",
      "Cell \u001B[1;32mIn[10], line 1\u001B[0m\n\u001B[1;32m----> 1\u001B[0m dqn \u001B[38;5;241m=\u001B[39m build_agent(model, actions)\n\u001B[0;32m      2\u001B[0m dqn\u001B[38;5;241m.\u001B[39mcompile(Adam(lr\u001B[38;5;241m=\u001B[39m\u001B[38;5;241m0.001\u001B[39m), metrics\u001B[38;5;241m=\u001B[39m[\u001B[38;5;124m'\u001B[39m\u001B[38;5;124mmae\u001B[39m\u001B[38;5;124m'\u001B[39m])\n\u001B[0;32m      3\u001B[0m dqn\u001B[38;5;241m.\u001B[39mfit(env, nb_steps\u001B[38;5;241m=\u001B[39m\u001B[38;5;241m50000\u001B[39m, visualize\u001B[38;5;241m=\u001B[39m\u001B[38;5;28;01mFalse\u001B[39;00m, verbose\u001B[38;5;241m=\u001B[39m\u001B[38;5;241m1\u001B[39m)\n",
      "Cell \u001B[1;32mIn[9], line 4\u001B[0m, in \u001B[0;36mbuild_agent\u001B[1;34m(model, actions)\u001B[0m\n\u001B[0;32m      2\u001B[0m policy \u001B[38;5;241m=\u001B[39m BoltzmannQPolicy()\n\u001B[0;32m      3\u001B[0m memory \u001B[38;5;241m=\u001B[39m SequentialMemory(limit\u001B[38;5;241m=\u001B[39m\u001B[38;5;241m50000\u001B[39m, window_length\u001B[38;5;241m=\u001B[39m\u001B[38;5;241m1\u001B[39m)\n\u001B[1;32m----> 4\u001B[0m dqn \u001B[38;5;241m=\u001B[39m DQNAgent(model\u001B[38;5;241m=\u001B[39mmodel, memory\u001B[38;5;241m=\u001B[39mmemory, policy\u001B[38;5;241m=\u001B[39mpolicy, \n\u001B[0;32m      5\u001B[0m               nb_actions\u001B[38;5;241m=\u001B[39mactions, nb_steps_warmup\u001B[38;5;241m=\u001B[39m\u001B[38;5;241m10\u001B[39m, target_model_update\u001B[38;5;241m=\u001B[39m\u001B[38;5;241m0.01\u001B[39m)\n\u001B[0;32m      6\u001B[0m \u001B[38;5;28;01mreturn\u001B[39;00m dqn\n",
      "\u001B[1;31mNameError\u001B[0m: name 'DQNAgent' is not defined"
     ]
    }
   ],
   "source": [
    "dqn = build_agent(model, actions)\n",
    "dqn.compile(Adam(lr=0.001), metrics=['mae'])\n",
    "dqn.fit(env, nb_steps=50000, visualize=False, verbose=1)"
   ],
   "metadata": {
    "collapsed": false,
    "ExecuteTime": {
     "end_time": "2023-11-17T06:09:52.437116700Z",
     "start_time": "2023-11-17T06:09:52.425104300Z"
    }
   },
   "id": "708ec1f6293cafce"
  },
  {
   "cell_type": "code",
   "execution_count": 27,
   "outputs": [],
   "source": [],
   "metadata": {
    "collapsed": false,
    "ExecuteTime": {
     "end_time": "2023-11-17T05:35:23.768779600Z",
     "start_time": "2023-11-17T05:35:23.759759Z"
    }
   },
   "id": "e5b4cf28f2131e0a"
  }
 ],
 "metadata": {
  "kernelspec": {
   "display_name": "Python 3",
   "language": "python",
   "name": "python3"
  },
  "language_info": {
   "codemirror_mode": {
    "name": "ipython",
    "version": 2
   },
   "file_extension": ".py",
   "mimetype": "text/x-python",
   "name": "python",
   "nbconvert_exporter": "python",
   "pygments_lexer": "ipython2",
   "version": "2.7.6"
  }
 },
 "nbformat": 4,
 "nbformat_minor": 5
}
