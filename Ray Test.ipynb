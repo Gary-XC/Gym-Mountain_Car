{
 "cells": [
  {
   "cell_type": "code",
   "execution_count": 1,
   "id": "897ae178",
   "metadata": {},
   "outputs": [
    {
     "name": "stdout",
     "output_type": "stream",
     "text": [
      "Collecting ray\n",
      "  Obtaining dependency information for ray from https://files.pythonhosted.org/packages/14/39/a148348a92d8ec27ca92d07923ce95b28d4be320a3803f95b46dd2d04987/ray-2.8.0-cp311-cp311-win_amd64.whl.metadata\n",
      "  Using cached ray-2.8.0-cp311-cp311-win_amd64.whl.metadata (13 kB)\n",
      "Requirement already satisfied: click>=7.0 in c:\\users\\xi chen\\anaconda3\\lib\\site-packages (from ray) (8.0.4)\n",
      "Requirement already satisfied: filelock in c:\\users\\xi chen\\anaconda3\\lib\\site-packages (from ray) (3.9.0)\n",
      "Requirement already satisfied: jsonschema in c:\\users\\xi chen\\anaconda3\\lib\\site-packages (from ray) (4.17.3)\n",
      "Requirement already satisfied: msgpack<2.0.0,>=1.0.0 in c:\\users\\xi chen\\anaconda3\\lib\\site-packages (from ray) (1.0.3)\n",
      "Requirement already satisfied: packaging in c:\\users\\xi chen\\anaconda3\\lib\\site-packages (from ray) (23.0)\n",
      "Requirement already satisfied: protobuf!=3.19.5,>=3.15.3 in c:\\users\\xi chen\\anaconda3\\lib\\site-packages (from ray) (4.24.2)\n",
      "Requirement already satisfied: pyyaml in c:\\users\\xi chen\\anaconda3\\lib\\site-packages (from ray) (6.0)\n",
      "Requirement already satisfied: aiosignal in c:\\users\\xi chen\\anaconda3\\lib\\site-packages (from ray) (1.2.0)\n",
      "Requirement already satisfied: frozenlist in c:\\users\\xi chen\\anaconda3\\lib\\site-packages (from ray) (1.3.3)\n",
      "Requirement already satisfied: requests in c:\\users\\xi chen\\anaconda3\\lib\\site-packages (from ray) (2.31.0)\n",
      "Requirement already satisfied: numpy>=1.19.3 in c:\\users\\xi chen\\anaconda3\\lib\\site-packages (from ray) (1.24.3)\n",
      "Requirement already satisfied: colorama in c:\\users\\xi chen\\anaconda3\\lib\\site-packages (from click>=7.0->ray) (0.4.6)\n",
      "Requirement already satisfied: attrs>=17.4.0 in c:\\users\\xi chen\\anaconda3\\lib\\site-packages (from jsonschema->ray) (22.1.0)\n",
      "Requirement already satisfied: pyrsistent!=0.17.0,!=0.17.1,!=0.17.2,>=0.14.0 in c:\\users\\xi chen\\anaconda3\\lib\\site-packages (from jsonschema->ray) (0.18.0)\n",
      "Requirement already satisfied: charset-normalizer<4,>=2 in c:\\users\\xi chen\\anaconda3\\lib\\site-packages (from requests->ray) (2.0.4)\n",
      "Requirement already satisfied: idna<4,>=2.5 in c:\\users\\xi chen\\anaconda3\\lib\\site-packages (from requests->ray) (3.4)\n",
      "Requirement already satisfied: urllib3<3,>=1.21.1 in c:\\users\\xi chen\\anaconda3\\lib\\site-packages (from requests->ray) (1.26.16)\n",
      "Requirement already satisfied: certifi>=2017.4.17 in c:\\users\\xi chen\\anaconda3\\lib\\site-packages (from requests->ray) (2023.7.22)\n",
      "Downloading ray-2.8.0-cp311-cp311-win_amd64.whl (24.8 MB)\n",
      "   ---------------------------------------- 0.0/24.8 MB ? eta -:--:--\n",
      "   - -------------------------------------- 0.8/24.8 MB 27.1 MB/s eta 0:00:01\n",
      "   ---- ----------------------------------- 2.5/24.8 MB 32.2 MB/s eta 0:00:01\n",
      "   ------- -------------------------------- 4.6/24.8 MB 36.8 MB/s eta 0:00:01\n",
      "   ----------- ---------------------------- 6.9/24.8 MB 40.3 MB/s eta 0:00:01\n",
      "   -------------- ------------------------- 9.3/24.8 MB 42.4 MB/s eta 0:00:01\n",
      "   ------------------- -------------------- 11.8/24.8 MB 46.7 MB/s eta 0:00:01\n",
      "   ----------------------- ---------------- 14.3/24.8 MB 50.4 MB/s eta 0:00:01\n",
      "   -------------------------- ------------- 16.2/24.8 MB 50.4 MB/s eta 0:00:01\n",
      "   ------------------------------ --------- 19.0/24.8 MB 50.4 MB/s eta 0:00:01\n",
      "   ---------------------------------- ----- 21.3/24.8 MB 50.4 MB/s eta 0:00:01\n",
      "   ---------------------------------------  24.3/24.8 MB 54.4 MB/s eta 0:00:01\n",
      "   ---------------------------------------  24.8/24.8 MB 54.4 MB/s eta 0:00:01\n",
      "   ---------------------------------------- 24.8/24.8 MB 40.9 MB/s eta 0:00:00\n",
      "Installing collected packages: ray\n",
      "Successfully installed ray-2.8.0\n",
      "Requirement already satisfied: gymnasium in c:\\users\\xi chen\\anaconda3\\lib\\site-packages (0.28.1)\n",
      "Requirement already satisfied: numpy>=1.21.0 in c:\\users\\xi chen\\anaconda3\\lib\\site-packages (from gymnasium) (1.24.3)\n",
      "Requirement already satisfied: jax-jumpy>=1.0.0 in c:\\users\\xi chen\\anaconda3\\lib\\site-packages (from gymnasium) (1.0.0)\n",
      "Requirement already satisfied: cloudpickle>=1.2.0 in c:\\users\\xi chen\\anaconda3\\lib\\site-packages (from gymnasium) (2.2.1)\n",
      "Requirement already satisfied: typing-extensions>=4.3.0 in c:\\users\\xi chen\\anaconda3\\lib\\site-packages (from gymnasium) (4.5.0)\n",
      "Requirement already satisfied: farama-notifications>=0.0.1 in c:\\users\\xi chen\\anaconda3\\lib\\site-packages (from gymnasium) (0.0.4)\n"
     ]
    }
   ],
   "source": [
    "!pip install ray\n",
    "!pip install gymnasium"
   ]
  },
  {
   "cell_type": "code",
   "execution_count": null,
   "id": "bf787d80",
   "metadata": {},
   "outputs": [],
   "source": [
    "import ray\n",
    "import gymnasium as gym\n",
    "\n",
    "ray.init()"
   ]
  },
  {
   "cell_type": "code",
   "execution_count": null,
   "id": "a5672035",
   "metadata": {},
   "outputs": [],
   "source": [
    "from ray import tune\n",
    "\n",
    "tune.run(\"PPO\",\n",
    "         config = {\"env\": \"MountainCar-v0\", \n",
    "                   \"evaluation_interval\": 2,\n",
    "                   \"evaluation_num_episodes\": 20,\n",
    "                   \"num_gpus\": 1\n",
    "                   }\n",
    "         )"
   ]
  },
  {
   "cell_type": "code",
   "execution_count": null,
   "id": "c2eece10",
   "metadata": {},
   "outputs": [],
   "source": []
  }
 ],
 "metadata": {
  "kernelspec": {
   "display_name": "Python 3 (ipykernel)",
   "language": "python",
   "name": "python3"
  },
  "language_info": {
   "codemirror_mode": {
    "name": "ipython",
    "version": 3
   },
   "file_extension": ".py",
   "mimetype": "text/x-python",
   "name": "python",
   "nbconvert_exporter": "python",
   "pygments_lexer": "ipython3",
   "version": "3.11.4"
  }
 },
 "nbformat": 4,
 "nbformat_minor": 5
}
